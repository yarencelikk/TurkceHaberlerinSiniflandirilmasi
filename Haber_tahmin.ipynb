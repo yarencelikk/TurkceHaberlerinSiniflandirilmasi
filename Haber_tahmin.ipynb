{
 "cells": [
  {
   "cell_type": "markdown",
   "id": "f93d3523-8824-4645-907c-4923f3e073f7",
   "metadata": {},
   "source": [
    "## Haber Tahmin \n",
    "\n",
    "- `best_meta.json` yüklenir ve **TF-IDF → SVD → Model** hattı otomatik kurulur.\n",
    "- Girdi metni eğitimdeki **aynı temizleme** fonksiyonundan geçer.\n",
    "- Model `predict_proba` destekliyse en yüksek olasılık; değilse **decision margin** gösterilir.\n",
    "- Komut satırından girilen metinler için hızlı demo.\n"
   ]
  },
  {
   "cell_type": "code",
   "execution_count": 2,
   "id": "68c81964-9913-480a-89c4-4dcb1b472c29",
   "metadata": {},
   "outputs": [
    {
     "name": "stdout",
     "output_type": "stream",
     "text": [
      "TurkishStemmer yüklendi.\n",
      "Yüklendi → LinearSVC_bal | TFIDF->SVD (SMOTE train)\n",
      "\n",
      "--- Yeni Haber Metnini Sınıflandırma ---\n",
      "Metin girin (çıkmak için 'q'):\n"
     ]
    },
    {
     "name": "stdin",
     "output_type": "stream",
     "text": [
      "\n",
      "Yeni haber metni:  Günün ilk yarısında düşüş eğiliminde hareket eden BIST 100 endeksi, saat 13.00 itibarıyla önceki kapanışa göre 18,45 puan ve yüzde 0,17 azalışla 10.810,48 puana geriledi.  Toplam işlem hacmi 59,4 milyar lira oldu. Bankacılık endeksi yüzde 1,39, holding endeksi de yüzde 0,09 değer kazandı.  Sektör endekslerinden en çok kazanan yüzde 1,88 ile finansal kiralama faktoring, en fazla düşen yüzde 1,56 ile turizm oldu.  Küresel piyasalarda, yatırımcıların odağı tarım dışı istihdam verilerine çevrilirken, güne pozitif başlayan ve 10.900 puanı test eden BIST 100 endeksi bu seviyeden gelen satışlarla düşüşe geçerek günün ilk yarısını negatif bir seyirle tamamladı.\n"
     ]
    },
    {
     "name": "stdout",
     "output_type": "stream",
     "text": [
      "\n",
      "Tahmin Edilen Kategori: EKONOMI (margin=2.05)\n",
      "En yakın 3 sınıf: ekonomi:2.05, spor:-1.33, sağlık:-1.36\n",
      "--------------------------------------------------\n"
     ]
    },
    {
     "name": "stdin",
     "output_type": "stream",
     "text": [
      "\n",
      "Yeni haber metni:  A Milli Futbol Takımı'nın İspanya ile oynayacağı 2026 FIFA Dünya Kupası Elemeleri E Grubu maçını İngiliz hakem Michael Oliver yönetecek. Türkiye Futbol Federasyonundan yapılan açıklamaya göre, MEDAŞ Konya Büyükşehir Stadı'nda 7 Eylül Pazar günü oynanacak ve saat 21.45'te başlayacak müsabakada Oliver'ın yardımcılıklarını Stuart Burt ve James Mainwaring yapacak. Karşılaşmanın dördüncü hakemi Christopher Kavanagh olacak. Maçta Jarred Gavan Gillett VAR, Darren England ise AVAR görevini üstlenecek.\n"
     ]
    },
    {
     "name": "stdout",
     "output_type": "stream",
     "text": [
      "\n",
      "Tahmin Edilen Kategori: SPOR (margin=2.07)\n",
      "En yakın 3 sınıf: spor:2.07, türkiye:-1.54, siyaset:-1.73\n",
      "--------------------------------------------------\n"
     ]
    },
    {
     "name": "stdin",
     "output_type": "stream",
     "text": [
      "\n",
      "Yeni haber metni:  q\n"
     ]
    },
    {
     "name": "stdout",
     "output_type": "stream",
     "text": [
      "Çıkılıyor.\n"
     ]
    }
   ],
   "source": [
    "# Haber Tahmin (meta uyumlu) — TF-IDF → SVD (train'de SMOTE) PIPELINE\n",
    "\n",
    "import json, re, string, sys, numpy as np\n",
    "from joblib import load\n",
    "\n",
    "# --- Stopwords & Stemmer (eğitimle uyumlu temizlik) ---\n",
    "def get_turkish_stopwords():\n",
    "    try:\n",
    "        import nltk\n",
    "        from nltk.corpus import stopwords\n",
    "        try:\n",
    "            nltk.data.find('corpora/stopwords')\n",
    "        except LookupError:\n",
    "            nltk.download('stopwords')\n",
    "        return set(stopwords.words('turkish'))\n",
    "    except Exception:\n",
    "        # yedek kısa liste\n",
    "        return set(['ve','veya','ama','fakat','ancak','de','da','ile','gibi','çok','daha','hem','ki','mi','mı','mu','mü',\n",
    "                    'için','çünkü','ya','yani','ise','o','bu','şu','ben','sen','biz','siz','onlar','bir','birlikte','olan',\n",
    "                    'olarak','kadar','önce','sonra','şöyle','böyle','hiç','her','hepsi','çünkü','neden','niçin','ne','nasıl'])\n",
    "\n",
    "TURKISH_STOPWORDS = get_turkish_stopwords()\n",
    "\n",
    "try:\n",
    "    from TurkishStemmer import TurkishStemmer\n",
    "    stemmer = TurkishStemmer()\n",
    "    print(\"TurkishStemmer yüklendi.\")\n",
    "except Exception:\n",
    "    stemmer = None\n",
    "    print(\"Uyarı: TurkishStemmer bulunamadı, kök bulma atlanacak.\")\n",
    "\n",
    "EXTRA_PUNCT = \"’‘“”–—…•·ªº°\"\n",
    "PUNCT_TABLE = str.maketrans('', '', string.punctuation + EXTRA_PUNCT)\n",
    "\n",
    "def clean_text_tr(text: str) -> str:\n",
    "    if not isinstance(text, str):\n",
    "        return \"\"\n",
    "    t = text.casefold()\n",
    "    t = re.sub(r'https?://\\S+|www\\.\\S+', ' ', t)   # URL\n",
    "    t = re.sub(r'<.*?>', ' ', t)                   # HTML\n",
    "    t = t.translate(PUNCT_TABLE)                   # noktalama\n",
    "    t = re.sub(r'\\d+', ' ', t)                     # rakamlar\n",
    "    t = re.sub(r'\\s+', ' ', t).strip()             # boşluk\n",
    "    words = []\n",
    "    for w in t.split():\n",
    "        if w not in TURKISH_STOPWORDS:\n",
    "            words.append(stemmer.stem(w) if stemmer else w)\n",
    "    return ' '.join(words)\n",
    "\n",
    "# --- Meta & öğeleri yükle ---\n",
    "try:\n",
    "    with open('best_meta.json', 'r', encoding='utf-8') as f:\n",
    "        meta = json.load(f)\n",
    "except FileNotFoundError:\n",
    "    print(\"Hata: 'best_meta.json' yok. Önce modeli kaydeden hücreyi çalıştırın.\")\n",
    "    sys.exit(1)\n",
    "\n",
    "model      = load(meta['model_file'])\n",
    "vectorizer = load(meta['vectorizer_file'])\n",
    "svd        = load(meta['svd_file']) if meta.get('svd_file') else None\n",
    "classes_   = meta.get('classes_') or getattr(model, 'classes_', None)\n",
    "\n",
    "print(f\"Yüklendi → {meta.get('model_name','Model')} | {meta.get('representation','TFIDF')}\")\n",
    "\n",
    "def vectorize_texts(raw_texts):\n",
    "    cleaned = [clean_text_tr(t) for t in raw_texts]\n",
    "    X = vectorizer.transform(cleaned)\n",
    "    if svd is not None:\n",
    "        X = svd.transform(X)\n",
    "    return X\n",
    "\n",
    "# --- Etkileşimli tahmin ---\n",
    "print(\"\\n--- Yeni Haber Metnini Sınıflandırma ---\")\n",
    "print(\"Metin girin (çıkmak için 'q'):\")\n",
    "\n",
    "while True:\n",
    "    try:\n",
    "        new_news = input(\"\\nYeni haber metni: \").strip()\n",
    "    except EOFError:\n",
    "        break\n",
    "    if new_news.lower() == 'q':\n",
    "        print(\"Çıkılıyor.\")\n",
    "        break\n",
    "    if not new_news:\n",
    "        print(\"Metin boş olamaz.\")\n",
    "        continue\n",
    "\n",
    "    X = vectorize_texts([new_news])\n",
    "    pred = model.predict(X)[0]\n",
    "\n",
    "    # Olasılık varsa göster; yoksa karar marjını göster\n",
    "    extra = \"\"\n",
    "    if hasattr(model, \"predict_proba\"):\n",
    "        proba = model.predict_proba(X)[0]\n",
    "        top_idx = int(np.argmax(proba))\n",
    "        extra = f\" (p={float(proba[top_idx]):.2f})\"\n",
    "    elif hasattr(model, \"decision_function\"):\n",
    "        scores = model.decision_function(X)\n",
    "        if scores.ndim == 1:  # binary\n",
    "            extra = f\" (margin={float(abs(scores[0])):.2f})\"\n",
    "        else:\n",
    "            top_idx = int(np.argmax(scores[0]))\n",
    "            extra = f\" (margin={float(scores[0][top_idx]):.2f})\"\n",
    "\n",
    "    print(f\"\\nTahmin Edilen Kategori: {str(pred).upper()}{extra}\")\n",
    "    if classes_ is not None:\n",
    "        # ilk 3 sınıfı da göster (olasılık ya da skor)\n",
    "        try:\n",
    "            if hasattr(model, \"predict_proba\"):\n",
    "                vec = model.predict_proba(X)[0]\n",
    "            else:\n",
    "                vec = model.decision_function(X)[0]\n",
    "            order = np.argsort(vec)[::-1]\n",
    "            topk = [(classes_[i], float(vec[i])) for i in order[:3]]\n",
    "            print(\"En yakın 3 sınıf:\", \", \".join([f\"{c}:{v:.2f}\" for c, v in topk]))\n",
    "        except Exception:\n",
    "            pass\n",
    "    print(\"-\" * 50)\n"
   ]
  }
 ],
 "metadata": {
  "kernelspec": {
   "display_name": "Python [conda env:anaconda3] *",
   "language": "python",
   "name": "conda-env-anaconda3-py"
  },
  "language_info": {
   "codemirror_mode": {
    "name": "ipython",
    "version": 3
   },
   "file_extension": ".py",
   "mimetype": "text/x-python",
   "name": "python",
   "nbconvert_exporter": "python",
   "pygments_lexer": "ipython3",
   "version": "3.11.13"
  }
 },
 "nbformat": 4,
 "nbformat_minor": 5
}
